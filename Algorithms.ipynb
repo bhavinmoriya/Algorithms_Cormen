{
  "nbformat": 4,
  "nbformat_minor": 0,
  "metadata": {
    "colab": {
      "name": "Algorithms.ipynb",
      "provenance": [],
      "authorship_tag": "ABX9TyPvlnqVY9nvUpxFda8GXOTo",
      "include_colab_link": true
    },
    "kernelspec": {
      "name": "python3",
      "display_name": "Python 3"
    }
  },
  "cells": [
    {
      "cell_type": "markdown",
      "metadata": {
        "id": "view-in-github",
        "colab_type": "text"
      },
      "source": [
        "<a href=\"https://colab.research.google.com/github/bhavinmoriya/Algorithms_Cormen/blob/main/Algorithms.ipynb\" target=\"_parent\"><img src=\"https://colab.research.google.com/assets/colab-badge.svg\" alt=\"Open In Colab\"/></a>"
      ]
    },
    {
      "cell_type": "code",
      "metadata": {
        "id": "q_rA6UpHEqCQ"
      },
      "source": [
        ""
      ],
      "execution_count": null,
      "outputs": []
    },
    {
      "cell_type": "markdown",
      "metadata": {
        "id": "-qDaF0U_ErCg"
      },
      "source": [
        "Algorithms - Sorting\n"
      ]
    },
    {
      "cell_type": "code",
      "metadata": {
        "id": "GxXxPPy3Eyw0"
      },
      "source": [
        "# Insert sort\n",
        "def insert_sort(l):\n",
        "  m = len(l)\n",
        "  if m == 1:\n",
        "    return l\n",
        "  else:\n",
        "    for j in range(1,m):\n",
        "      key = l[j]\n",
        "      i = j-1\n",
        "      while i >= 0 and l[i] > key:\n",
        "        l[i+1] = l[i]\n",
        "        i = i-1\n",
        "      l[i+1] = key\n",
        "    return l \n",
        "        "
      ],
      "execution_count": null,
      "outputs": []
    },
    {
      "cell_type": "code",
      "metadata": {
        "id": "WSCZr1dVOiXG"
      },
      "source": [
        "a,b = 1,2"
      ],
      "execution_count": null,
      "outputs": []
    },
    {
      "cell_type": "code",
      "metadata": {
        "id": "iZZl927dOmG9"
      },
      "source": [
        "a,b = b,a"
      ],
      "execution_count": null,
      "outputs": []
    },
    {
      "cell_type": "code",
      "metadata": {
        "colab": {
          "base_uri": "https://localhost:8080/"
        },
        "id": "Ktexobl0PD2P",
        "outputId": "10f27949-0dbb-42c3-989e-80ec3b420d9b"
      },
      "source": [
        "for i in range(9,10):\n",
        "  print(i)"
      ],
      "execution_count": null,
      "outputs": [
        {
          "output_type": "stream",
          "text": [
            "9\n"
          ],
          "name": "stdout"
        }
      ]
    },
    {
      "cell_type": "code",
      "metadata": {
        "colab": {
          "base_uri": "https://localhost:8080/"
        },
        "id": "QFb06VcGOtAM",
        "outputId": "ba21a9b4-cec3-4372-9569-4a7621a06353"
      },
      "source": [
        "a,b"
      ],
      "execution_count": null,
      "outputs": [
        {
          "output_type": "execute_result",
          "data": {
            "text/plain": [
              "(2, 1)"
            ]
          },
          "metadata": {
            "tags": []
          },
          "execution_count": 47
        }
      ]
    },
    {
      "cell_type": "code",
      "metadata": {
        "id": "Wt2ogIgaHAtf"
      },
      "source": [
        "# Pop sort for decreasing order\n",
        "def pop_sort(l):\n",
        "  m = len(l)\n",
        "  for i in range(m):\n",
        "    for j in range(i+1,m):\n",
        "      if l[i] < l[j]:\n",
        "        l[i], l[j] = l[j], l[i]\n",
        "  return l"
      ],
      "execution_count": null,
      "outputs": []
    },
    {
      "cell_type": "code",
      "metadata": {
        "id": "uxV_68jUL-5f"
      },
      "source": [
        "l =[3,67,6,9,8,7,9,4,5,1]"
      ],
      "execution_count": null,
      "outputs": []
    },
    {
      "cell_type": "code",
      "metadata": {
        "colab": {
          "base_uri": "https://localhost:8080/"
        },
        "id": "dZibwxUtHIBm",
        "outputId": "5cb8ba78-f897-4863-a7c8-40a552edbab7"
      },
      "source": [
        "insert_sort(l)"
      ],
      "execution_count": null,
      "outputs": [
        {
          "output_type": "execute_result",
          "data": {
            "text/plain": [
              "[1, 3, 4, 5, 6, 7, 8, 9, 9, 67]"
            ]
          },
          "metadata": {
            "tags": []
          },
          "execution_count": 52
        }
      ]
    },
    {
      "cell_type": "code",
      "metadata": {
        "colab": {
          "base_uri": "https://localhost:8080/"
        },
        "id": "zbJi4kEwHKqD",
        "outputId": "70358b57-47b4-45c2-bb41-42d54c50034b"
      },
      "source": [
        "pop_sort(l)"
      ],
      "execution_count": null,
      "outputs": [
        {
          "output_type": "execute_result",
          "data": {
            "text/plain": [
              "[67, 9, 9, 8, 7, 6, 5, 4, 3, 1]"
            ]
          },
          "metadata": {
            "tags": []
          },
          "execution_count": 62
        }
      ]
    },
    {
      "cell_type": "code",
      "metadata": {
        "colab": {
          "base_uri": "https://localhost:8080/"
        },
        "id": "7gtC5gUsKRRd",
        "outputId": "c50aa307-8ee5-4eaf-8ee1-4d2971d78483"
      },
      "source": [
        "l"
      ],
      "execution_count": null,
      "outputs": [
        {
          "output_type": "execute_result",
          "data": {
            "text/plain": [
              "[3, 67, 6, 9, 8, 7, 9, 4, 5, 1]"
            ]
          },
          "metadata": {
            "tags": []
          },
          "execution_count": 58
        }
      ]
    },
    {
      "cell_type": "code",
      "metadata": {
        "id": "Mn1Fk-jSPVnb"
      },
      "source": [
        ""
      ],
      "execution_count": null,
      "outputs": []
    }
  ]
}